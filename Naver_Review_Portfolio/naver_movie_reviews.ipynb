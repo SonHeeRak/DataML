{
 "cells": [
  {
   "cell_type": "markdown",
   "metadata": {},
   "source": [
    "# 네이버 영화 평점 크롤링"
   ]
  },
  {
   "cell_type": "markdown",
   "metadata": {},
   "source": [
    "## 필요한 라이브러리 Import"
   ]
  },
  {
   "cell_type": "code",
   "execution_count": 33,
   "metadata": {},
   "outputs": [],
   "source": [
    "import requests\n",
    "import lxml.html\n",
    "import time\n",
    "import pandas as pd"
   ]
  },
  {
   "cell_type": "markdown",
   "metadata": {},
   "source": [
    "## 크롤링 코드"
   ]
  },
  {
   "cell_type": "code",
   "execution_count": null,
   "metadata": {},
   "outputs": [],
   "source": [
    "for code in range(10001, 190000):\n",
    "    # 네이버 영화평 주소\n",
    "    url = 'https://movie.naver.com/movie/point/af/list.nhn?st=mcode&sword={}&target=after&page={}'\n",
    "\n",
    "    res = requests.get(url.format(code, 1))\n",
    "    element = lxml.html.fromstring(res.text)\n",
    "\n",
    "    # 리뷰 총 개수\n",
    "    try:\n",
    "        total = int(element.find('.//strong[@class=\"c_88 fs_11\"]').text_content())\n",
    "    except:\n",
    "        continue\n",
    "        \n",
    "    # 총 페이지수\n",
    "    total_page = int(total / 10)\n",
    "    \n",
    "    if total_page == 0:\n",
    "        continue\n",
    "\n",
    "    # 리뷰 모음\n",
    "    reviews = []\n",
    "    start = time.time()\n",
    "    for page in range(1, total_page):\n",
    "        res = requests.get(url.format(code, page))\n",
    "        element = lxml.html.fromstring(res.text)\n",
    "        # HTML 요소 분석을 통해 작성한 코드\n",
    "        # table.list_netizen 테이블의 tbody > tr > td.point, td.title을 분석하는 코드\n",
    "        for e in element.xpath('.//table[@class=\"list_netizen\"]//tbody//tr'):\n",
    "            star = e.find('.//td[@class=\"point\"]').text_content()\n",
    "            comment = e.find('.//td[@class=\"title\"]').text_content()\n",
    "            comment = comment.strip().replace(\"\\t\", \"\").replace(\"\\r\", \"\").split(\"\\n\")\n",
    "            title = comment[0]\n",
    "            reple = comment[3]\n",
    "            reviews.append([title, star, reple])\n",
    "        if page % 100 == 0:\n",
    "            print('=>', end='')\n",
    "            time.sleep(3)\n",
    "    review = pd.DataFrame(reviews, columns=['title', 'star', 'reple'])\n",
    "    review.to_csv('data/{}_reviews.csv'.format(code), index=False)\n",
    "    print('{} : review collecting {} page time : {}'.format(code, total_page, round(time.time()-start)/60.0, 2))"
   ]
  }
 ],
 "metadata": {
  "kernelspec": {
   "display_name": "Python [conda env:kaggle] *",
   "language": "python",
   "name": "conda-env-kaggle-py"
  },
  "language_info": {
   "codemirror_mode": {
    "name": "ipython",
    "version": 3
   },
   "file_extension": ".py",
   "mimetype": "text/x-python",
   "name": "python",
   "nbconvert_exporter": "python",
   "pygments_lexer": "ipython3",
   "version": "3.6.9"
  }
 },
 "nbformat": 4,
 "nbformat_minor": 4
}
