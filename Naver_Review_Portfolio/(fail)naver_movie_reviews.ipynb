{
 "cells": [
  {
   "cell_type": "markdown",
   "metadata": {},
   "source": [
    "# 네이버 영화 평점 크롤링"
   ]
  },
  {
   "cell_type": "code",
   "execution_count": 4,
   "metadata": {},
   "outputs": [],
   "source": [
    "import requests\n",
    "import bs4\n",
    "\n",
    "url = 'https://movie.naver.com/movie/point/af/list.nhn?target=after$page={}'\n",
    "\n",
    "res = requests.get(url.format(1))\n",
    "bs = bs4.BeautifulSoup(res.text, 'html.parser')"
   ]
  },
  {
   "cell_type": "code",
   "execution_count": 29,
   "metadata": {},
   "outputs": [],
   "source": [
    "list = bs.find_all('tr')"
   ]
  },
  {
   "cell_type": "code",
   "execution_count": 33,
   "metadata": {},
   "outputs": [],
   "source": [
    "reviews = []"
   ]
  },
  {
   "cell_type": "code",
   "execution_count": 34,
   "metadata": {},
   "outputs": [
    {
     "data": {
      "text/plain": [
       "[['고질라: 킹 오브 몬스터', '6', '고질라 모스라 vs 기도라 라돈 '],\n",
       " ['브링 더 소울 : 더 무비', '10', '이 기적아닌 기적을 우리가 만든걸까 난 여기있었고 네가 나에게 다가워 준 거야 '],\n",
       " ['유열의 음악앨범', '10', '잔잔한 감동.. 오열의 음악앨범 '],\n",
       " ['유열의 음악앨범', '10', '잔잔하게 눈물도 닦아가며 2시간 힐링의 시간... '],\n",
       " ['엑시트', '10', '성룡영화만큼 재밌음 시리즈로 계속 만들기 원함..ㅋㅋ '],\n",
       " ['유열의 음악앨범', '10', '커플에게 좋다면 공감 커플에게 아니라고 생각하면 비공감 눌러주세요 '],\n",
       " ['샤프트', '10', '간만에 시원하게 봤음 ㅁ7점 이상 되는것 같음 너무 낮길래 별점 더 줌 '],\n",
       " ['변신', '10', '이게 뭐라고 손에 땀을 쥐게 하네요. .. 엄청 무서워요! '],\n",
       " ['이타미 준의 바다', '1', 'ㅇ우애머네누니에에ㅏㄴ '],\n",
       " ['변신', '6', '종수가 공항갔을때 부터 비극시작 ']]"
      ]
     },
     "execution_count": 34,
     "metadata": {},
     "output_type": "execute_result"
    }
   ],
   "source": [
    "for i in range(1, len(list)):\n",
    "    li = list[i].text.replace('\\t', '').split('\\n')\n",
    "    title = li[5]\n",
    "    point = li[3]\n",
    "    reple = li[6]\n",
    "    reviews.append([title, point, reple])\n",
    "reviews"
   ]
  },
  {
   "cell_type": "markdown",
   "metadata": {},
   "source": [
    "## 크롤링한 데이터를 DataFrame으로 저장하는 방법"
   ]
  },
  {
   "cell_type": "code",
   "execution_count": 37,
   "metadata": {},
   "outputs": [],
   "source": [
    "import pandas as pd\n",
    "naver_review = pd.DataFrame(reviews, columns=['title', 'point', 'comment'])"
   ]
  },
  {
   "cell_type": "code",
   "execution_count": 38,
   "metadata": {},
   "outputs": [
    {
     "data": {
      "text/html": [
       "<div>\n",
       "<style scoped>\n",
       "    .dataframe tbody tr th:only-of-type {\n",
       "        vertical-align: middle;\n",
       "    }\n",
       "\n",
       "    .dataframe tbody tr th {\n",
       "        vertical-align: top;\n",
       "    }\n",
       "\n",
       "    .dataframe thead th {\n",
       "        text-align: right;\n",
       "    }\n",
       "</style>\n",
       "<table border=\"1\" class=\"dataframe\">\n",
       "  <thead>\n",
       "    <tr style=\"text-align: right;\">\n",
       "      <th></th>\n",
       "      <th>title</th>\n",
       "      <th>point</th>\n",
       "      <th>comment</th>\n",
       "    </tr>\n",
       "  </thead>\n",
       "  <tbody>\n",
       "    <tr>\n",
       "      <th>0</th>\n",
       "      <td>고질라: 킹 오브 몬스터</td>\n",
       "      <td>6</td>\n",
       "      <td>고질라 모스라 vs 기도라 라돈</td>\n",
       "    </tr>\n",
       "    <tr>\n",
       "      <th>1</th>\n",
       "      <td>브링 더 소울 : 더 무비</td>\n",
       "      <td>10</td>\n",
       "      <td>이 기적아닌 기적을 우리가 만든걸까 난 여기있었고 네가 나에게 다가워 준 거야</td>\n",
       "    </tr>\n",
       "    <tr>\n",
       "      <th>2</th>\n",
       "      <td>유열의 음악앨범</td>\n",
       "      <td>10</td>\n",
       "      <td>잔잔한 감동.. 오열의 음악앨범</td>\n",
       "    </tr>\n",
       "    <tr>\n",
       "      <th>3</th>\n",
       "      <td>유열의 음악앨범</td>\n",
       "      <td>10</td>\n",
       "      <td>잔잔하게 눈물도 닦아가며 2시간 힐링의 시간...</td>\n",
       "    </tr>\n",
       "    <tr>\n",
       "      <th>4</th>\n",
       "      <td>엑시트</td>\n",
       "      <td>10</td>\n",
       "      <td>성룡영화만큼 재밌음 시리즈로 계속 만들기 원함..ㅋㅋ</td>\n",
       "    </tr>\n",
       "    <tr>\n",
       "      <th>5</th>\n",
       "      <td>유열의 음악앨범</td>\n",
       "      <td>10</td>\n",
       "      <td>커플에게 좋다면 공감 커플에게 아니라고 생각하면 비공감 눌러주세요</td>\n",
       "    </tr>\n",
       "    <tr>\n",
       "      <th>6</th>\n",
       "      <td>샤프트</td>\n",
       "      <td>10</td>\n",
       "      <td>간만에 시원하게 봤음 ㅁ7점 이상 되는것 같음 너무 낮길래 별점 더 줌</td>\n",
       "    </tr>\n",
       "    <tr>\n",
       "      <th>7</th>\n",
       "      <td>변신</td>\n",
       "      <td>10</td>\n",
       "      <td>이게 뭐라고 손에 땀을 쥐게 하네요. .. 엄청 무서워요!</td>\n",
       "    </tr>\n",
       "    <tr>\n",
       "      <th>8</th>\n",
       "      <td>이타미 준의 바다</td>\n",
       "      <td>1</td>\n",
       "      <td>ㅇ우애머네누니에에ㅏㄴ</td>\n",
       "    </tr>\n",
       "    <tr>\n",
       "      <th>9</th>\n",
       "      <td>변신</td>\n",
       "      <td>6</td>\n",
       "      <td>종수가 공항갔을때 부터 비극시작</td>\n",
       "    </tr>\n",
       "  </tbody>\n",
       "</table>\n",
       "</div>"
      ],
      "text/plain": [
       "            title point                                       comment\n",
       "0   고질라: 킹 오브 몬스터     6                            고질라 모스라 vs 기도라 라돈 \n",
       "1  브링 더 소울 : 더 무비    10  이 기적아닌 기적을 우리가 만든걸까 난 여기있었고 네가 나에게 다가워 준 거야 \n",
       "2        유열의 음악앨범    10                            잔잔한 감동.. 오열의 음악앨범 \n",
       "3        유열의 음악앨범    10                  잔잔하게 눈물도 닦아가며 2시간 힐링의 시간... \n",
       "4             엑시트    10                성룡영화만큼 재밌음 시리즈로 계속 만들기 원함..ㅋㅋ \n",
       "5        유열의 음악앨범    10         커플에게 좋다면 공감 커플에게 아니라고 생각하면 비공감 눌러주세요 \n",
       "6             샤프트    10      간만에 시원하게 봤음 ㅁ7점 이상 되는것 같음 너무 낮길래 별점 더 줌 \n",
       "7              변신    10             이게 뭐라고 손에 땀을 쥐게 하네요. .. 엄청 무서워요! \n",
       "8       이타미 준의 바다     1                                  ㅇ우애머네누니에에ㅏㄴ \n",
       "9              변신     6                            종수가 공항갔을때 부터 비극시작 "
      ]
     },
     "execution_count": 38,
     "metadata": {},
     "output_type": "execute_result"
    }
   ],
   "source": [
    "naver_review"
   ]
  },
  {
   "cell_type": "markdown",
   "metadata": {},
   "source": [
    "## 전체 리뷰 개수"
   ]
  },
  {
   "cell_type": "code",
   "execution_count": 42,
   "metadata": {},
   "outputs": [
    {
     "data": {
      "text/plain": [
       "12398460"
      ]
     },
     "execution_count": 42,
     "metadata": {},
     "output_type": "execute_result"
    }
   ],
   "source": [
    "total = bs.find('strong', {'class': 'c_88 fs_11'}).text\n",
    "total = int(total)\n",
    "total"
   ]
  },
  {
   "cell_type": "markdown",
   "metadata": {},
   "source": [
    "## 전체 페이지 수"
   ]
  },
  {
   "cell_type": "code",
   "execution_count": 43,
   "metadata": {},
   "outputs": [
    {
     "data": {
      "text/plain": [
       "1239846"
      ]
     },
     "execution_count": 43,
     "metadata": {},
     "output_type": "execute_result"
    }
   ],
   "source": [
    "total_page = int(total / 10)\n",
    "total_page"
   ]
  },
  {
   "cell_type": "code",
   "execution_count": 49,
   "metadata": {},
   "outputs": [],
   "source": [
    "num = int(total_page / 1000)"
   ]
  },
  {
   "cell_type": "code",
   "execution_count": 52,
   "metadata": {},
   "outputs": [],
   "source": [
    "import time"
   ]
  },
  {
   "cell_type": "code",
   "execution_count": null,
   "metadata": {},
   "outputs": [],
   "source": [
    "reviews = []\n",
    "for n in range(num):\n",
    "    start = time.time()\n",
    "    for page in range(1000 * n, 1000 * (n+1)):\n",
    "        url = 'https://movie.naver.com/movie/point/af/list.nhn?target=after$page={}'\n",
    "\n",
    "        res = requests.get(url.format(page))\n",
    "        bs = bs4.BeautifulSoup(res.text, 'html.parser')\n",
    "\n",
    "        list = bs.find_all('tr')\n",
    "\n",
    "        for i in range(1, len(list)):\n",
    "            li = list[i].text.replace('\\t', '').split('\\n')\n",
    "            title = li[5]\n",
    "            point = li[3]\n",
    "            reple = li[6]\n",
    "            reviews.append([title, point, reple])\n",
    "    reviews = pd.DataFrame(reviews, columns=['title', 'point', 'comment'])\n",
    "    reviews.to_csv('data/reviews{}.csv'.format(n+1))\n",
    "    print('{}/{} finish! {}s'.format(n+1, num, time.time()-start))"
   ]
  },
  {
   "cell_type": "code",
   "execution_count": null,
   "metadata": {},
   "outputs": [],
   "source": []
  }
 ],
 "metadata": {
  "kernelspec": {
   "display_name": "Python [conda env:kaggle] *",
   "language": "python",
   "name": "conda-env-kaggle-py"
  },
  "language_info": {
   "codemirror_mode": {
    "name": "ipython",
    "version": 3
   },
   "file_extension": ".py",
   "mimetype": "text/x-python",
   "name": "python",
   "nbconvert_exporter": "python",
   "pygments_lexer": "ipython3",
   "version": "3.6.9"
  }
 },
 "nbformat": 4,
 "nbformat_minor": 4
}
