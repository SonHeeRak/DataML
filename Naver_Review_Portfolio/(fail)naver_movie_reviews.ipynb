{
 "cells": [
  {
   "cell_type": "markdown",
   "metadata": {},
   "source": [
    "# 네이버 영화 평점 크롤링"
   ]
  },
  {
   "cell_type": "code",
   "execution_count": 30,
   "metadata": {},
   "outputs": [
    {
     "name": "stdout",
     "output_type": "stream",
     "text": [
      "=>174903 : review collecting 2212 page time : 1.2833333333333334\n"
     ]
    }
   ],
   "source": [
    "import requests\n",
    "import lxml.html\n",
    "import time\n",
    "import pandas as pd\n",
    "\n",
    "# 크롤링 코드\n",
    "for code in range(10001, 20000):\n",
    "    # 네이버 영화평 주소\n",
    "    url = 'https://movie.naver.com/movie/point/af/list.nhn?st=mcode&sword={}&target=after&page={}'\n",
    "\n",
    "    res = requests.get(url1.format(code, 1))\n",
    "    element = lxml.html.fromstring(res.text)\n",
    "\n",
    "    # 리뷰 총 개수\n",
    "    total = int(element.find('.//strong[@class=\"c_88 fs_11\"]').text_content())\n",
    "    # 총 페이지수\n",
    "    total_page = int(total / 10)\n",
    "\n",
    "    # 리뷰 모음\n",
    "    reviews = []\n",
    "    start = time.time()\n",
    "    for page in range(1, 200):\n",
    "        res = requests.get(url.format(code, page))\n",
    "        element = lxml.html.fromstring(res.text)\n",
    "        # HTML 요소 분석을 통해 작성한 코드\n",
    "        # table.list_netizen 테이블의 tbody > tr > td.point, td.title을 분석하는 코드\n",
    "        for e in element.xpath('.//table[@class=\"list_netizen\"]//tbody//tr'):\n",
    "            star = e.find('.//td[@class=\"point\"]').text_content()\n",
    "            comment = e.find('.//td[@class=\"title\"]').text_content()\n",
    "            comment = comment.strip().replace(\"\\t\", \"\").replace(\"\\r\", \"\").split(\"\\n\")\n",
    "            title = comment[0]\n",
    "            reple = comment[3]\n",
    "            reviews.append([title, star, reple])\n",
    "        if page % 100 == 0:\n",
    "            print('=>', end='')\n",
    "            time.sleep(3)\n",
    "    review = pd.DataFrame(reviews, columns=['title', 'star', 'reple'])\n",
    "    review.to_csv('data/{}_reviews.csv'.format(code), index=False)\n",
    "    print('{} : review collecting {} page time : {}'.format(code, total_page, round(time.time()-start)/60.0, 2))"
   ]
  },
  {
   "cell_type": "code",
   "execution_count": 27,
   "metadata": {},
   "outputs": [
    {
     "data": {
      "text/html": [
       "<div>\n",
       "<style scoped>\n",
       "    .dataframe tbody tr th:only-of-type {\n",
       "        vertical-align: middle;\n",
       "    }\n",
       "\n",
       "    .dataframe tbody tr th {\n",
       "        vertical-align: top;\n",
       "    }\n",
       "\n",
       "    .dataframe thead th {\n",
       "        text-align: right;\n",
       "    }\n",
       "</style>\n",
       "<table border=\"1\" class=\"dataframe\">\n",
       "  <thead>\n",
       "    <tr style=\"text-align: right;\">\n",
       "      <th></th>\n",
       "      <th>title</th>\n",
       "      <th>star</th>\n",
       "      <th>reple</th>\n",
       "    </tr>\n",
       "  </thead>\n",
       "  <tbody>\n",
       "    <tr>\n",
       "      <th>0</th>\n",
       "      <td>엑시트</td>\n",
       "      <td>10</td>\n",
       "      <td>여태 이런 느낌의 재난영화는 없었다</td>\n",
       "    </tr>\n",
       "    <tr>\n",
       "      <th>1</th>\n",
       "      <td>엑시트</td>\n",
       "      <td>10</td>\n",
       "      <td>스릴감을 억지스럽지않고 자연스럽게  묻어나게 잘 그려낸영화인듯합니다</td>\n",
       "    </tr>\n",
       "    <tr>\n",
       "      <th>2</th>\n",
       "      <td>엑시트</td>\n",
       "      <td>10</td>\n",
       "      <td>올 여름은 너로 정했다!</td>\n",
       "    </tr>\n",
       "    <tr>\n",
       "      <th>3</th>\n",
       "      <td>엑시트</td>\n",
       "      <td>10</td>\n",
       "      <td>'코믹에 재난을 결합하면 이렇게 나와야지'를 엑시트가 보여줬다.</td>\n",
       "    </tr>\n",
       "    <tr>\n",
       "      <th>4</th>\n",
       "      <td>엑시트</td>\n",
       "      <td>7</td>\n",
       "      <td>용남이의 고군분투 재난 탈출기</td>\n",
       "    </tr>\n",
       "  </tbody>\n",
       "</table>\n",
       "</div>"
      ],
      "text/plain": [
       "  title star                                   reple\n",
       "0   엑시트   10                    여태 이런 느낌의 재난영화는 없었다 \n",
       "1   엑시트   10  스릴감을 억지스럽지않고 자연스럽게  묻어나게 잘 그려낸영화인듯합니다 \n",
       "2   엑시트   10                          올 여름은 너로 정했다! \n",
       "3   엑시트   10    '코믹에 재난을 결합하면 이렇게 나와야지'를 엑시트가 보여줬다. \n",
       "4   엑시트    7                       용남이의 고군분투 재난 탈출기 "
      ]
     },
     "execution_count": 27,
     "metadata": {},
     "output_type": "execute_result"
    }
   ],
   "source": [
    "review.head()"
   ]
  },
  {
   "cell_type": "code",
   "execution_count": 28,
   "metadata": {},
   "outputs": [
    {
     "data": {
      "text/html": [
       "<div>\n",
       "<style scoped>\n",
       "    .dataframe tbody tr th:only-of-type {\n",
       "        vertical-align: middle;\n",
       "    }\n",
       "\n",
       "    .dataframe tbody tr th {\n",
       "        vertical-align: top;\n",
       "    }\n",
       "\n",
       "    .dataframe thead th {\n",
       "        text-align: right;\n",
       "    }\n",
       "</style>\n",
       "<table border=\"1\" class=\"dataframe\">\n",
       "  <thead>\n",
       "    <tr style=\"text-align: right;\">\n",
       "      <th></th>\n",
       "      <th>title</th>\n",
       "      <th>star</th>\n",
       "      <th>reple</th>\n",
       "    </tr>\n",
       "  </thead>\n",
       "  <tbody>\n",
       "    <tr>\n",
       "      <th>1985</th>\n",
       "      <td>엑시트</td>\n",
       "      <td>9</td>\n",
       "      <td>끝날때까지 손에 땀을 쥐고 봤다ㅋㅋㅋ</td>\n",
       "    </tr>\n",
       "    <tr>\n",
       "      <th>1986</th>\n",
       "      <td>엑시트</td>\n",
       "      <td>10</td>\n",
       "      <td>오랜만에 재미있게 본 오락영화입니다. 강추드려요 ㅋㅋㅋ</td>\n",
       "    </tr>\n",
       "    <tr>\n",
       "      <th>1987</th>\n",
       "      <td>엑시트</td>\n",
       "      <td>10</td>\n",
       "      <td>웃음도 나왔지만 부분부분 슬픔 부분도 있고 감동적이고 최고였습니다 다시보고 싶을정도...</td>\n",
       "    </tr>\n",
       "    <tr>\n",
       "      <th>1988</th>\n",
       "      <td>엑시트</td>\n",
       "      <td>10</td>\n",
       "      <td>윤아윤아윤아윤아윤아</td>\n",
       "    </tr>\n",
       "    <tr>\n",
       "      <th>1989</th>\n",
       "      <td>엑시트</td>\n",
       "      <td>10</td>\n",
       "      <td>완전재밋어요!!짱짱추천</td>\n",
       "    </tr>\n",
       "  </tbody>\n",
       "</table>\n",
       "</div>"
      ],
      "text/plain": [
       "     title star                                              reple\n",
       "1985   엑시트    9                              끝날때까지 손에 땀을 쥐고 봤다ㅋㅋㅋ \n",
       "1986   엑시트   10                    오랜만에 재미있게 본 오락영화입니다. 강추드려요 ㅋㅋㅋ \n",
       "1987   엑시트   10  웃음도 나왔지만 부분부분 슬픔 부분도 있고 감동적이고 최고였습니다 다시보고 싶을정도...\n",
       "1988   엑시트   10                                        윤아윤아윤아윤아윤아 \n",
       "1989   엑시트   10                                      완전재밋어요!!짱짱추천 "
      ]
     },
     "execution_count": 28,
     "metadata": {},
     "output_type": "execute_result"
    }
   ],
   "source": [
    "review.tail()"
   ]
  },
  {
   "cell_type": "code",
   "execution_count": null,
   "metadata": {},
   "outputs": [],
   "source": []
  }
 ],
 "metadata": {
  "kernelspec": {
   "display_name": "Python [conda env:kaggle] *",
   "language": "python",
   "name": "conda-env-kaggle-py"
  },
  "language_info": {
   "codemirror_mode": {
    "name": "ipython",
    "version": 3
   },
   "file_extension": ".py",
   "mimetype": "text/x-python",
   "name": "python",
   "nbconvert_exporter": "python",
   "pygments_lexer": "ipython3",
   "version": "3.6.9"
  }
 },
 "nbformat": 4,
 "nbformat_minor": 4
}
