{
 "cells": [
  {
   "cell_type": "code",
   "execution_count": 43,
   "metadata": {},
   "outputs": [],
   "source": [
    "import pandas as pd\n",
    "import os"
   ]
  },
  {
   "cell_type": "markdown",
   "metadata": {},
   "source": [
    "# 크롤링해 저장한 파일 이름을 리스트로 저장"
   ]
  },
  {
   "cell_type": "code",
   "execution_count": 44,
   "metadata": {},
   "outputs": [],
   "source": [
    "path = './data'\n",
    "file_list = os.listdir(path)"
   ]
  },
  {
   "cell_type": "markdown",
   "metadata": {},
   "source": [
    "# 저장한 데이터 파일을 하나씩 읽어서 합침"
   ]
  },
  {
   "cell_type": "code",
   "execution_count": 45,
   "metadata": {},
   "outputs": [],
   "source": [
    "reviews = pd.read_csv('data/reviews1.csv')\n",
    "for i in range(len(file_list)-1):\n",
    "    df = pd.read_csv('data/{}'.format(file_list[i+1]))\n",
    "    reviews = pd.concat([reviews, df])"
   ]
  },
  {
   "cell_type": "markdown",
   "metadata": {},
   "source": [
    "# 합친 데이터의 불필요한 index를 초기화하고 columns을 제거"
   ]
  },
  {
   "cell_type": "code",
   "execution_count": 46,
   "metadata": {},
   "outputs": [],
   "source": [
    "reviews.reset_index().drop(columns=['index', 'Unnamed: 0'], inplace=True)"
   ]
  },
  {
   "cell_type": "code",
   "execution_count": 52,
   "metadata": {},
   "outputs": [
    {
     "data": {
      "text/plain": [
       "Index(['title', 'point', 'comment'], dtype='object')"
      ]
     },
     "execution_count": 52,
     "metadata": {},
     "output_type": "execute_result"
    }
   ],
   "source": [
    "reviews.columns"
   ]
  },
  {
   "cell_type": "code",
   "execution_count": 48,
   "metadata": {},
   "outputs": [
    {
     "data": {
      "text/html": [
       "<div>\n",
       "<style scoped>\n",
       "    .dataframe tbody tr th:only-of-type {\n",
       "        vertical-align: middle;\n",
       "    }\n",
       "\n",
       "    .dataframe tbody tr th {\n",
       "        vertical-align: top;\n",
       "    }\n",
       "\n",
       "    .dataframe thead th {\n",
       "        text-align: right;\n",
       "    }\n",
       "</style>\n",
       "<table border=\"1\" class=\"dataframe\">\n",
       "  <thead>\n",
       "    <tr style=\"text-align: right;\">\n",
       "      <th></th>\n",
       "      <th>title</th>\n",
       "      <th>point</th>\n",
       "      <th>comment</th>\n",
       "    </tr>\n",
       "  </thead>\n",
       "  <tbody>\n",
       "    <tr>\n",
       "      <th>0</th>\n",
       "      <td>김복동</td>\n",
       "      <td>10</td>\n",
       "      <td>마음이 아픕니다.  일제시대 강제로 끌려가 꽃다운 젊은 시절을 공포와 치욕으로 살아...</td>\n",
       "    </tr>\n",
       "    <tr>\n",
       "      <th>1</th>\n",
       "      <td>유열의 음악앨범</td>\n",
       "      <td>10</td>\n",
       "      <td>아름다웠던 우리의 젊은 날</td>\n",
       "    </tr>\n",
       "    <tr>\n",
       "      <th>2</th>\n",
       "      <td>47미터 2</td>\n",
       "      <td>10</td>\n",
       "      <td>남 일이라 생각하고 보기 시작했는데 끝날 때는 내 일처럼 생각하고 있었음... 하....</td>\n",
       "    </tr>\n",
       "    <tr>\n",
       "      <th>3</th>\n",
       "      <td>청춘연애</td>\n",
       "      <td>2</td>\n",
       "      <td>영화를 이렇게 밖에 못만드냐...  답 없네</td>\n",
       "    </tr>\n",
       "    <tr>\n",
       "      <th>4</th>\n",
       "      <td>유전</td>\n",
       "      <td>10</td>\n",
       "      <td>공포영화 매니아인데 진짜 무서워요 귀신이 안나오는데도 무서움 절제된 공포라 해야 하나</td>\n",
       "    </tr>\n",
       "  </tbody>\n",
       "</table>\n",
       "</div>"
      ],
      "text/plain": [
       "      title  point                                            comment\n",
       "0       김복동     10  마음이 아픕니다.  일제시대 강제로 끌려가 꽃다운 젊은 시절을 공포와 치욕으로 살아...\n",
       "1  유열의 음악앨범     10                                    아름다웠던 우리의 젊은 날 \n",
       "2    47미터 2     10  남 일이라 생각하고 보기 시작했는데 끝날 때는 내 일처럼 생각하고 있었음... 하....\n",
       "3      청춘연애      2                          영화를 이렇게 밖에 못만드냐...  답 없네 \n",
       "4        유전     10   공포영화 매니아인데 진짜 무서워요 귀신이 안나오는데도 무서움 절제된 공포라 해야 하나 "
      ]
     },
     "execution_count": 48,
     "metadata": {},
     "output_type": "execute_result"
    }
   ],
   "source": [
    "reviews.head()"
   ]
  },
  {
   "cell_type": "markdown",
   "metadata": {},
   "source": [
    "# csv파일로 저장"
   ]
  },
  {
   "cell_type": "code",
   "execution_count": 49,
   "metadata": {},
   "outputs": [],
   "source": [
    "reviews.to_csv('naver_movie_reviews.csv', index=False)"
   ]
  },
  {
   "cell_type": "code",
   "execution_count": 50,
   "metadata": {},
   "outputs": [
    {
     "data": {
      "text/plain": [
       "Index(['title', 'point', 'comment'], dtype='object')"
      ]
     },
     "execution_count": 50,
     "metadata": {},
     "output_type": "execute_result"
    }
   ],
   "source": [
    "df = pd.read_csv('naver_movie_reviews.csv')\n",
    "df.columns"
   ]
  },
  {
   "cell_type": "code",
   "execution_count": 51,
   "metadata": {},
   "outputs": [
    {
     "data": {
      "text/html": [
       "<div>\n",
       "<style scoped>\n",
       "    .dataframe tbody tr th:only-of-type {\n",
       "        vertical-align: middle;\n",
       "    }\n",
       "\n",
       "    .dataframe tbody tr th {\n",
       "        vertical-align: top;\n",
       "    }\n",
       "\n",
       "    .dataframe thead th {\n",
       "        text-align: right;\n",
       "    }\n",
       "</style>\n",
       "<table border=\"1\" class=\"dataframe\">\n",
       "  <thead>\n",
       "    <tr style=\"text-align: right;\">\n",
       "      <th></th>\n",
       "      <th>title</th>\n",
       "      <th>point</th>\n",
       "      <th>comment</th>\n",
       "    </tr>\n",
       "  </thead>\n",
       "  <tbody>\n",
       "    <tr>\n",
       "      <th>0</th>\n",
       "      <td>김복동</td>\n",
       "      <td>10</td>\n",
       "      <td>마음이 아픕니다.  일제시대 강제로 끌려가 꽃다운 젊은 시절을 공포와 치욕으로 살아...</td>\n",
       "    </tr>\n",
       "    <tr>\n",
       "      <th>1</th>\n",
       "      <td>유열의 음악앨범</td>\n",
       "      <td>10</td>\n",
       "      <td>아름다웠던 우리의 젊은 날</td>\n",
       "    </tr>\n",
       "    <tr>\n",
       "      <th>2</th>\n",
       "      <td>47미터 2</td>\n",
       "      <td>10</td>\n",
       "      <td>남 일이라 생각하고 보기 시작했는데 끝날 때는 내 일처럼 생각하고 있었음... 하....</td>\n",
       "    </tr>\n",
       "    <tr>\n",
       "      <th>3</th>\n",
       "      <td>청춘연애</td>\n",
       "      <td>2</td>\n",
       "      <td>영화를 이렇게 밖에 못만드냐...  답 없네</td>\n",
       "    </tr>\n",
       "    <tr>\n",
       "      <th>4</th>\n",
       "      <td>유전</td>\n",
       "      <td>10</td>\n",
       "      <td>공포영화 매니아인데 진짜 무서워요 귀신이 안나오는데도 무서움 절제된 공포라 해야 하나</td>\n",
       "    </tr>\n",
       "  </tbody>\n",
       "</table>\n",
       "</div>"
      ],
      "text/plain": [
       "      title  point                                            comment\n",
       "0       김복동     10  마음이 아픕니다.  일제시대 강제로 끌려가 꽃다운 젊은 시절을 공포와 치욕으로 살아...\n",
       "1  유열의 음악앨범     10                                    아름다웠던 우리의 젊은 날 \n",
       "2    47미터 2     10  남 일이라 생각하고 보기 시작했는데 끝날 때는 내 일처럼 생각하고 있었음... 하....\n",
       "3      청춘연애      2                          영화를 이렇게 밖에 못만드냐...  답 없네 \n",
       "4        유전     10   공포영화 매니아인데 진짜 무서워요 귀신이 안나오는데도 무서움 절제된 공포라 해야 하나 "
      ]
     },
     "execution_count": 51,
     "metadata": {},
     "output_type": "execute_result"
    }
   ],
   "source": [
    "df.head()"
   ]
  },
  {
   "cell_type": "code",
   "execution_count": null,
   "metadata": {},
   "outputs": [],
   "source": []
  }
 ],
 "metadata": {
  "kernelspec": {
   "display_name": "Python [conda env:kaggle] *",
   "language": "python",
   "name": "conda-env-kaggle-py"
  },
  "language_info": {
   "codemirror_mode": {
    "name": "ipython",
    "version": 3
   },
   "file_extension": ".py",
   "mimetype": "text/x-python",
   "name": "python",
   "nbconvert_exporter": "python",
   "pygments_lexer": "ipython3",
   "version": "3.6.9"
  }
 },
 "nbformat": 4,
 "nbformat_minor": 4
}
